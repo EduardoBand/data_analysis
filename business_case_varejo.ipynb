{
 "cells": [
  {
   "cell_type": "code",
   "execution_count": 1,
   "id": "20817762-1c11-4b12-a886-938a21b6abfa",
   "metadata": {},
   "outputs": [],
   "source": [
    "# Importanto as bibliotecas necessárias\n",
    "\n",
    "import pandas as pd"
   ]
  },
  {
   "cell_type": "code",
   "execution_count": 2,
   "id": "27d8ab2b-c061-4dcd-a692-af82e99d25cb",
   "metadata": {},
   "outputs": [],
   "source": [
    "# Criando uma variável com o caminho do arquivo e selecionando a aba correta do \n",
    "\n",
    "file_path = 'case_evento_promocional.xlsx'\n",
    "\n",
    "sheets = pd.ExcelFile(file_path).sheet_names"
   ]
  },
  {
   "cell_type": "code",
   "execution_count": 3,
   "id": "a98a931b-bfce-49b8-a73e-e9632872ecf6",
   "metadata": {},
   "outputs": [
    {
     "data": {
      "text/html": [
       "<div>\n",
       "<style scoped>\n",
       "    .dataframe tbody tr th:only-of-type {\n",
       "        vertical-align: middle;\n",
       "    }\n",
       "\n",
       "    .dataframe tbody tr th {\n",
       "        vertical-align: top;\n",
       "    }\n",
       "\n",
       "    .dataframe thead th {\n",
       "        text-align: right;\n",
       "    }\n",
       "</style>\n",
       "<table border=\"1\" class=\"dataframe\">\n",
       "  <thead>\n",
       "    <tr style=\"text-align: right;\">\n",
       "      <th></th>\n",
       "      <th>DataKey</th>\n",
       "      <th>Ano</th>\n",
       "      <th>Mês</th>\n",
       "      <th>Dia</th>\n",
       "      <th>Data</th>\n",
       "      <th>Valor Total de venda</th>\n",
       "      <th>Total de Pedidos</th>\n",
       "      <th>Sessões</th>\n",
       "    </tr>\n",
       "  </thead>\n",
       "  <tbody>\n",
       "    <tr>\n",
       "      <th>0</th>\n",
       "      <td>20190101</td>\n",
       "      <td>2019</td>\n",
       "      <td>1</td>\n",
       "      <td>1</td>\n",
       "      <td>2019-01-01</td>\n",
       "      <td>2770690</td>\n",
       "      <td>5202</td>\n",
       "      <td>547234</td>\n",
       "    </tr>\n",
       "    <tr>\n",
       "      <th>1</th>\n",
       "      <td>20190102</td>\n",
       "      <td>2019</td>\n",
       "      <td>1</td>\n",
       "      <td>2</td>\n",
       "      <td>2019-01-02</td>\n",
       "      <td>12370525</td>\n",
       "      <td>20894</td>\n",
       "      <td>1604194</td>\n",
       "    </tr>\n",
       "    <tr>\n",
       "      <th>2</th>\n",
       "      <td>20190103</td>\n",
       "      <td>2019</td>\n",
       "      <td>1</td>\n",
       "      <td>3</td>\n",
       "      <td>2019-01-03</td>\n",
       "      <td>19522402</td>\n",
       "      <td>35102</td>\n",
       "      <td>2626928</td>\n",
       "    </tr>\n",
       "    <tr>\n",
       "      <th>3</th>\n",
       "      <td>20190104</td>\n",
       "      <td>2019</td>\n",
       "      <td>1</td>\n",
       "      <td>4</td>\n",
       "      <td>2019-01-04</td>\n",
       "      <td>130661627</td>\n",
       "      <td>226425</td>\n",
       "      <td>7128284</td>\n",
       "    </tr>\n",
       "    <tr>\n",
       "      <th>4</th>\n",
       "      <td>20190105</td>\n",
       "      <td>2019</td>\n",
       "      <td>1</td>\n",
       "      <td>5</td>\n",
       "      <td>2019-01-05</td>\n",
       "      <td>34100407</td>\n",
       "      <td>55736</td>\n",
       "      <td>2254605</td>\n",
       "    </tr>\n",
       "  </tbody>\n",
       "</table>\n",
       "</div>"
      ],
      "text/plain": [
       "    DataKey   Ano  Mês  Dia       Data  Valor Total de venda  \\\n",
       "0  20190101  2019    1    1 2019-01-01               2770690   \n",
       "1  20190102  2019    1    2 2019-01-02              12370525   \n",
       "2  20190103  2019    1    3 2019-01-03              19522402   \n",
       "3  20190104  2019    1    4 2019-01-04             130661627   \n",
       "4  20190105  2019    1    5 2019-01-05              34100407   \n",
       "\n",
       "   Total de Pedidos  Sessões  \n",
       "0              5202   547234  \n",
       "1             20894  1604194  \n",
       "2             35102  2626928  \n",
       "3            226425  7128284  \n",
       "4             55736  2254605  "
      ]
     },
     "execution_count": 3,
     "metadata": {},
     "output_type": "execute_result"
    }
   ],
   "source": [
    "# Demonstrando uma amostra do DataFrame\n",
    "\n",
    "df = pd.read_excel(file_path, sheet_name=sheets[1])\n",
    "df.head()"
   ]
  },
  {
   "cell_type": "markdown",
   "id": "b51a8bb2-99b2-4489-9116-d41130a899fb",
   "metadata": {},
   "source": [
    "# Business Case"
   ]
  },
  {
   "cell_type": "markdown",
   "id": "f9cabd1c-f2fe-47c0-b0a8-b1ee02ed5bf8",
   "metadata": {},
   "source": [
    "Nesse Business Case, tive a seguinte afirmação:\n",
    "\n",
    "##### A empresa X tem um evento promocional toda primeira sexta-feira do ano. O evento acaba se prolongando para o sábado e o domingo subsequentes ao evento. Em 2020, o evento acabou começando na própria quinta-feira à noite.\n",
    "\n",
    "As perguntas que nortearam essa análise de dados foram:\n",
    "\n",
    "1. Você considera que o evento de 2020 foi bom ou ruim em relação ao de 2019, para a empresa? Por que?\n",
    "   \n",
    "2. Com base nas evoluções dos resultados e dos indicadores de ticket médio e conversão, o que você infere sobre a estratégia da empresa para o evento de 2020, em comparação com o de 2019?\n",
    "\n",
    "3. Quais ações práticas vocês acredita que a empresa realizou para o evento de 2020, para possibilitar essa estratégia?\n",
    "\n"
   ]
  },
  {
   "cell_type": "markdown",
   "id": "dab656d2-2d78-4669-bcea-b5c2deaa795a",
   "metadata": {},
   "source": [
    "Para resolver tais questões, o ideal seria descobrir o ticket médio e as taxas de conversão.\n",
    "Lembrando que:\n",
    "\n",
    "Ticket médio = valor total de venda / total de pedidos \n",
    "Taxa de conversão = (total de pedidos / sessões) * 100 (para porcentagem)\n",
    "\n",
    "Entretanto, primeiramente, precisamos ajustar os dados e filtras as datas do evento. \n",
    "Usando um calendário, nota-se que, em 2020, o evento começou no dia 02, uma quinta-feira, ou seja, foram 4 dias de evento(02, 03, 04, 05). Já em 2019, a sexta-feira foi dia 04, ou seja, o evento durou 3 dias (04, 05 e 06).\n",
    "\n",
    "Vamos à análise :)\n",
    "\n",
    "\n"
   ]
  },
  {
   "cell_type": "code",
   "execution_count": 7,
   "id": "aa9c64a6-b870-40a7-ae7b-56289c25b251",
   "metadata": {},
   "outputs": [
    {
     "name": "stdout",
     "output_type": "stream",
     "text": [
      "<class 'pandas.core.frame.DataFrame'>\n",
      "RangeIndex: 371 entries, 0 to 370\n",
      "Data columns (total 8 columns):\n",
      " #   Column                Non-Null Count  Dtype         \n",
      "---  ------                --------------  -----         \n",
      " 0   DataKey               371 non-null    int64         \n",
      " 1   Ano                   371 non-null    int64         \n",
      " 2   Mês                   371 non-null    int64         \n",
      " 3   Dia                   371 non-null    int64         \n",
      " 4   Data                  371 non-null    datetime64[ns]\n",
      " 5   Valor Total de venda  371 non-null    int64         \n",
      " 6   Total de Pedidos      371 non-null    int64         \n",
      " 7   Sessões               371 non-null    int64         \n",
      "dtypes: datetime64[ns](1), int64(7)\n",
      "memory usage: 23.3 KB\n"
     ]
    }
   ],
   "source": [
    "# Convertendo a coluna Data para DateTime\n",
    "\n",
    "df['Data'] = pd.to_datetime(df['Data'])\n",
    "\n",
    "# Verificando se está correto e quais são os tipos de dados da planilha\n",
    "df.info()"
   ]
  },
  {
   "cell_type": "code",
   "execution_count": 8,
   "id": "3c521282-2fa1-4adf-8023-3fd12a5ed6d1",
   "metadata": {},
   "outputs": [],
   "source": [
    "datas_evento_2019 = [\"2019-01-04\", \"2019-01-05\", \"2019-01-06\"]\n",
    "datas_evento_2020 = [\"2020-01-02\", \"2020-01-03\", \"2020-01-04\", \"2020-01-05\"]\n",
    "\n",
    "# Filtrando os dados do evento para cada ano\n",
    "df_evento_2019 = df[df[\"Data\"].isin(pd.to_datetime(datas_evento_2019))]\n",
    "df_evento_2020 = df[df[\"Data\"].isin(pd.to_datetime(datas_evento_2020))]"
   ]
  },
  {
   "cell_type": "code",
   "execution_count": 9,
   "id": "088e51c4-78ae-46a6-8062-94f344a0db70",
   "metadata": {},
   "outputs": [],
   "source": [
    "# Função para calcular Ticket Médio e Taxa de Conversão\n",
    "def calcular_indicadores(df):\n",
    "    valor_total = df[\"Valor Total de venda\"].sum()\n",
    "    total_pedidos = df[\"Total de Pedidos\"].sum()\n",
    "    total_sessoes = df[\"Sessões\"].sum()\n",
    "\n",
    "    ticket_medio = valor_total / total_pedidos\n",
    "    taxa_conversao = (total_pedidos / total_sessoes) * 100\n",
    "\n",
    "    return ticket_medio, taxa_conversao"
   ]
  },
  {
   "cell_type": "code",
   "execution_count": 10,
   "id": "7e6eccdb-f102-4d8a-a4a4-4a6afb5241f0",
   "metadata": {},
   "outputs": [
    {
     "name": "stdout",
     "output_type": "stream",
     "text": [
      "🔹 2019 - Ticket Médio: R$585.07, Taxa de Conversão: 2.84%\n",
      "🔹 2020 - Ticket Médio: R$477.03, Taxa de Conversão: 2.21%\n"
     ]
    }
   ],
   "source": [
    "# Calcular para 2019 e 2020\n",
    "ticket_2019, conversao_2019 = calcular_indicadores(df_evento_2019)\n",
    "ticket_2020, conversao_2020 = calcular_indicadores(df_evento_2020)\n",
    "\n",
    "# Exibir os resultados\n",
    "print(f\"🔹 2019 - Ticket Médio: R${ticket_2019:.2f}, Taxa de Conversão: {conversao_2019:.2f}%\")\n",
    "print(f\"🔹 2020 - Ticket Médio: R${ticket_2020:.2f}, Taxa de Conversão: {conversao_2020:.2f}%\")"
   ]
  },
  {
   "cell_type": "markdown",
   "id": "4438ccca-1a9d-4904-b376-4892fddcf36c",
   "metadata": {},
   "source": [
    "# Análise com base nos resultados\n",
    "\n",
    "Voltemos às perguntas:\n",
    "\n",
    "1. Você considera que o evento de 2020 foi bom ou ruim em relação ao de 2019, para a empresa? Por que?\n",
    "\n",
    "Com base no Ticket médio e na taxa de conversão, o ano de 2019 teve resultados melhores apesar de menos dias de evento.\n",
    "\n",
    "2. Com base nas evoluções dos resultados e dos indicadores de ticket médio e conversão, o que você infere sobre a estratégia da empresa para o evento de 2020, em comparação com o de 2019?\n",
    "\n",
    "Aumento da duração do evento (4 dias em 2020 vs. 3 dias em 2019) pode ter diluído as vendas ao longo do tempo, impactando o ticket médio.\n",
    "A empresa pode ter tentado atrair mais clientes com descontos agressivos, mas a conversão caiu.\n",
    "O evento pode não ter tido o mesmo apelo ou a concorrência pode ter sido maior em 2020.\n",
    "\n",
    "3. Quais ações práticas vocês acredita que a empresa realizou para o evento de 2020, para possibilitar essa estratégia?\n",
    "\n",
    "Expandiu o evento para 4 dias (começando na quinta-feira).\n",
    "Ofereceu descontos mais agressivos, reduzindo o ticket médio.\n",
    "Fez campanhas para atrair mais clientes, mas não converteu tão bem.\n",
    "\n",
    "Podemos ainda analisar alguns outros aspectos com esse banco de dados, como se o faturamento total do evento aumentou ou diminuiu em 2020, e o impacto da quinta-feira à noite no geral. "
   ]
  },
  {
   "cell_type": "code",
   "execution_count": 12,
   "id": "62b9b391-455a-42f9-a1d5-13521bc5b326",
   "metadata": {},
   "outputs": [
    {
     "name": "stdout",
     "output_type": "stream",
     "text": [
      "🔹 2019 - Faturamento Total: R$178,014,116.00\n",
      "🔹 2020 - Faturamento Total: R$217,387,403.00\n",
      "🔹 A diferença entre os dois anos foi de: R$39,373,287.00\n"
     ]
    }
   ],
   "source": [
    "# Calcular faturamento total do evento em cada ano\n",
    "faturamento_2019 = df_evento_2019[\"Valor Total de venda\"].sum()\n",
    "faturamento_2020 = df_evento_2020[\"Valor Total de venda\"].sum()\n",
    "diferenca_faturamento = df_evento_2020[\"Valor Total de venda\"].sum() - df_evento_2019[\"Valor Total de venda\"].sum()\n",
    "\n",
    "# Exibir os resultados\n",
    "print(f\"🔹 2019 - Faturamento Total: R${faturamento_2019:,.2f}\")\n",
    "print(f\"🔹 2020 - Faturamento Total: R${faturamento_2020:,.2f}\")\n",
    "print(f\"🔹 A diferença entre os dois anos foi de: R${diferenca_faturamento:,.2f}\")"
   ]
  },
  {
   "cell_type": "markdown",
   "id": "556f7c4d-774f-4f9e-9eba-5bb18dd9561b",
   "metadata": {},
   "source": [
    "### Análise do Faturamento\n",
    "\n",
    "Mesmo com queda no ticket médio (-18,5%) e na taxa de conversão (-22,2%), o faturamento de 2020 foi R$39,37 milhões maior do que em 2019.\n",
    "\n",
    "O aumento da duração do evento (de 3 para 4 dias) compensou as quedas de ticket médio e conversão.\n",
    "Apesar de vender produtos mais baratos, a empresa conseguiu um volume maior de vendas.\n",
    "Isso sugere que a estratégia de 2020 pode ter sido voltada para atrair mais clientes e vender em maior quantidade, em vez de focar em um ticket médio alto.\n",
    "\n",
    "Agora, vamos verificar o impacto da quinta-feira:"
   ]
  },
  {
   "cell_type": "code",
   "execution_count": 14,
   "id": "c2578a09-186b-48be-9c96-e45766fa91ff",
   "metadata": {},
   "outputs": [
    {
     "name": "stdout",
     "output_type": "stream",
     "text": [
      "🔹 Quinta-feira (02/01/2020) - Faturamento: R$10,805,906.00\n",
      "🔹 Quinta-feira (02/01/2020) - Ticket Médio: R$410.06\n",
      "🔹 Quinta-feira (02/01/2020) - Taxa de Conversão: 1.56%\n"
     ]
    }
   ],
   "source": [
    "# Filtrar os dados apenas para o dia 02/01/2020\n",
    "df_quinta_2020 = df[df[\"Data\"] == \"2020-01-02\"]\n",
    "\n",
    "# Calcular o faturamento, pedidos e sessões desse dia\n",
    "faturamento_quinta = df_quinta_2020[\"Valor Total de venda\"].sum()\n",
    "pedidos_quinta = df_quinta_2020[\"Total de Pedidos\"].sum()\n",
    "sessoes_quinta = df_quinta_2020[\"Sessões\"].sum()\n",
    "\n",
    "# Calcular ticket médio e taxa de conversão da quinta-feira\n",
    "ticket_quinta = faturamento_quinta / pedidos_quinta\n",
    "conversao_quinta = (pedidos_quinta / sessoes_quinta) * 100\n",
    "\n",
    "# Exibir os resultados\n",
    "print(f\"🔹 Quinta-feira (02/01/2020) - Faturamento: R${faturamento_quinta:,.2f}\")\n",
    "print(f\"🔹 Quinta-feira (02/01/2020) - Ticket Médio: R${ticket_quinta:.2f}\")\n",
    "print(f\"🔹 Quinta-feira (02/01/2020) - Taxa de Conversão: {conversao_quinta:.2f}%\")"
   ]
  },
  {
   "cell_type": "markdown",
   "id": "11429b5d-526d-4025-ae9b-50da743fd10c",
   "metadata": {},
   "source": [
    "# Conclusão Geral\n",
    "\n",
    "A quinta-feira foi importante, mas não foi o principal motor do sucesso de 2020. O aumento de faturamento de 2020 deve ser atribuído a uma combinação da expansão do evento para 4 dias e estratégias de atração de volume, com descontos e promoções.\n",
    "\n",
    "A queda no ticket médio e na taxa de conversão indicam que, embora a empresa tenha aumentado a quantidade de vendas, ela pode ter diluído o valor médio das compras para alcançar esse aumento de volume."
   ]
  },
  {
   "cell_type": "code",
   "execution_count": null,
   "id": "e9e0b7b3-a696-4ba5-9ac7-7b5293d0a6db",
   "metadata": {},
   "outputs": [],
   "source": []
  }
 ],
 "metadata": {
  "kernelspec": {
   "display_name": "Python [conda env:base] *",
   "language": "python",
   "name": "conda-base-py"
  },
  "language_info": {
   "codemirror_mode": {
    "name": "ipython",
    "version": 3
   },
   "file_extension": ".py",
   "mimetype": "text/x-python",
   "name": "python",
   "nbconvert_exporter": "python",
   "pygments_lexer": "ipython3",
   "version": "3.12.7"
  }
 },
 "nbformat": 4,
 "nbformat_minor": 5
}
